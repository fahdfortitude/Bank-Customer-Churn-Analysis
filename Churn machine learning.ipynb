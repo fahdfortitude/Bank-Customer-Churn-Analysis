{
 "cells": [
  {
   "cell_type": "markdown",
   "metadata": {},
   "source": [
    "## Preparing for Machine learning and Machine Learning"
   ]
  },
  {
   "cell_type": "code",
   "execution_count": 1,
   "metadata": {},
   "outputs": [],
   "source": [
    "import pandas as pd\n",
    "import numpy as np\n",
    "import pickle"
   ]
  },
  {
   "cell_type": "code",
   "execution_count": 2,
   "metadata": {},
   "outputs": [],
   "source": [
    "#Load the dataframe saved in EDA\n",
    "churn_clean_df= pd.read_pickle('churn.pkl')"
   ]
  },
  {
   "cell_type": "code",
   "execution_count": 3,
   "metadata": {},
   "outputs": [
    {
     "data": {
      "text/html": [
       "<div>\n",
       "<style scoped>\n",
       "    .dataframe tbody tr th:only-of-type {\n",
       "        vertical-align: middle;\n",
       "    }\n",
       "\n",
       "    .dataframe tbody tr th {\n",
       "        vertical-align: top;\n",
       "    }\n",
       "\n",
       "    .dataframe thead th {\n",
       "        text-align: right;\n",
       "    }\n",
       "</style>\n",
       "<table border=\"1\" class=\"dataframe\">\n",
       "  <thead>\n",
       "    <tr style=\"text-align: right;\">\n",
       "      <th></th>\n",
       "      <th>customer_id</th>\n",
       "      <th>vintage</th>\n",
       "      <th>age</th>\n",
       "      <th>gender</th>\n",
       "      <th>dependents</th>\n",
       "      <th>occupation</th>\n",
       "      <th>city</th>\n",
       "      <th>customer_nw_category</th>\n",
       "      <th>branch_code</th>\n",
       "      <th>days_since_last_transaction</th>\n",
       "      <th>...</th>\n",
       "      <th>average_monthly_balance_prevQ</th>\n",
       "      <th>average_monthly_balance_prevQ2</th>\n",
       "      <th>current_month_credit</th>\n",
       "      <th>previous_month_credit</th>\n",
       "      <th>current_month_debit</th>\n",
       "      <th>previous_month_debit</th>\n",
       "      <th>current_month_balance</th>\n",
       "      <th>previous_month_balance</th>\n",
       "      <th>churn</th>\n",
       "      <th>Age_group</th>\n",
       "    </tr>\n",
       "  </thead>\n",
       "  <tbody>\n",
       "    <tr>\n",
       "      <th>0</th>\n",
       "      <td>1</td>\n",
       "      <td>3135</td>\n",
       "      <td>66</td>\n",
       "      <td>Male</td>\n",
       "      <td>0.0</td>\n",
       "      <td>self_employed</td>\n",
       "      <td>187.0</td>\n",
       "      <td>2</td>\n",
       "      <td>755</td>\n",
       "      <td>224.0</td>\n",
       "      <td>...</td>\n",
       "      <td>1458.71</td>\n",
       "      <td>1449.07</td>\n",
       "      <td>0.20</td>\n",
       "      <td>0.20</td>\n",
       "      <td>0.20</td>\n",
       "      <td>0.20</td>\n",
       "      <td>1458.71</td>\n",
       "      <td>1458.71</td>\n",
       "      <td>0</td>\n",
       "      <td>Old Age</td>\n",
       "    </tr>\n",
       "    <tr>\n",
       "      <th>1</th>\n",
       "      <td>2</td>\n",
       "      <td>310</td>\n",
       "      <td>35</td>\n",
       "      <td>Male</td>\n",
       "      <td>0.0</td>\n",
       "      <td>self_employed</td>\n",
       "      <td>NaN</td>\n",
       "      <td>2</td>\n",
       "      <td>3214</td>\n",
       "      <td>60.0</td>\n",
       "      <td>...</td>\n",
       "      <td>7799.26</td>\n",
       "      <td>12419.41</td>\n",
       "      <td>0.56</td>\n",
       "      <td>0.56</td>\n",
       "      <td>5486.27</td>\n",
       "      <td>100.56</td>\n",
       "      <td>6496.78</td>\n",
       "      <td>8787.61</td>\n",
       "      <td>0</td>\n",
       "      <td>Young Adult</td>\n",
       "    </tr>\n",
       "    <tr>\n",
       "      <th>2</th>\n",
       "      <td>4</td>\n",
       "      <td>2356</td>\n",
       "      <td>31</td>\n",
       "      <td>Male</td>\n",
       "      <td>0.0</td>\n",
       "      <td>salaried</td>\n",
       "      <td>146.0</td>\n",
       "      <td>2</td>\n",
       "      <td>41</td>\n",
       "      <td>NaN</td>\n",
       "      <td>...</td>\n",
       "      <td>4910.17</td>\n",
       "      <td>2815.94</td>\n",
       "      <td>0.61</td>\n",
       "      <td>0.61</td>\n",
       "      <td>6046.73</td>\n",
       "      <td>259.23</td>\n",
       "      <td>5006.28</td>\n",
       "      <td>5070.14</td>\n",
       "      <td>0</td>\n",
       "      <td>Young Adult</td>\n",
       "    </tr>\n",
       "    <tr>\n",
       "      <th>3</th>\n",
       "      <td>5</td>\n",
       "      <td>478</td>\n",
       "      <td>90</td>\n",
       "      <td>NaN</td>\n",
       "      <td>NaN</td>\n",
       "      <td>self_employed</td>\n",
       "      <td>1020.0</td>\n",
       "      <td>2</td>\n",
       "      <td>582</td>\n",
       "      <td>147.0</td>\n",
       "      <td>...</td>\n",
       "      <td>2084.54</td>\n",
       "      <td>1006.54</td>\n",
       "      <td>0.47</td>\n",
       "      <td>0.47</td>\n",
       "      <td>0.47</td>\n",
       "      <td>2143.33</td>\n",
       "      <td>2291.91</td>\n",
       "      <td>1669.79</td>\n",
       "      <td>1</td>\n",
       "      <td>Old Age</td>\n",
       "    </tr>\n",
       "    <tr>\n",
       "      <th>4</th>\n",
       "      <td>6</td>\n",
       "      <td>2531</td>\n",
       "      <td>42</td>\n",
       "      <td>Male</td>\n",
       "      <td>2.0</td>\n",
       "      <td>self_employed</td>\n",
       "      <td>1494.0</td>\n",
       "      <td>3</td>\n",
       "      <td>388</td>\n",
       "      <td>58.0</td>\n",
       "      <td>...</td>\n",
       "      <td>1643.31</td>\n",
       "      <td>1871.12</td>\n",
       "      <td>0.33</td>\n",
       "      <td>714.61</td>\n",
       "      <td>588.62</td>\n",
       "      <td>1538.06</td>\n",
       "      <td>1157.15</td>\n",
       "      <td>1677.16</td>\n",
       "      <td>1</td>\n",
       "      <td>Middle Age</td>\n",
       "    </tr>\n",
       "  </tbody>\n",
       "</table>\n",
       "<p>5 rows × 22 columns</p>\n",
       "</div>"
      ],
      "text/plain": [
       "   customer_id  vintage  age gender  dependents     occupation    city  \\\n",
       "0            1     3135   66   Male         0.0  self_employed   187.0   \n",
       "1            2      310   35   Male         0.0  self_employed     NaN   \n",
       "2            4     2356   31   Male         0.0       salaried   146.0   \n",
       "3            5      478   90    NaN         NaN  self_employed  1020.0   \n",
       "4            6     2531   42   Male         2.0  self_employed  1494.0   \n",
       "\n",
       "   customer_nw_category  branch_code  days_since_last_transaction  ...  \\\n",
       "0                     2          755                        224.0  ...   \n",
       "1                     2         3214                         60.0  ...   \n",
       "2                     2           41                          NaN  ...   \n",
       "3                     2          582                        147.0  ...   \n",
       "4                     3          388                         58.0  ...   \n",
       "\n",
       "   average_monthly_balance_prevQ  average_monthly_balance_prevQ2  \\\n",
       "0                        1458.71                         1449.07   \n",
       "1                        7799.26                        12419.41   \n",
       "2                        4910.17                         2815.94   \n",
       "3                        2084.54                         1006.54   \n",
       "4                        1643.31                         1871.12   \n",
       "\n",
       "   current_month_credit  previous_month_credit  current_month_debit  \\\n",
       "0                  0.20                   0.20                 0.20   \n",
       "1                  0.56                   0.56              5486.27   \n",
       "2                  0.61                   0.61              6046.73   \n",
       "3                  0.47                   0.47                 0.47   \n",
       "4                  0.33                 714.61               588.62   \n",
       "\n",
       "   previous_month_debit  current_month_balance  previous_month_balance  churn  \\\n",
       "0                  0.20                1458.71                 1458.71      0   \n",
       "1                100.56                6496.78                 8787.61      0   \n",
       "2                259.23                5006.28                 5070.14      0   \n",
       "3               2143.33                2291.91                 1669.79      1   \n",
       "4               1538.06                1157.15                 1677.16      1   \n",
       "\n",
       "     Age_group  \n",
       "0      Old Age  \n",
       "1  Young Adult  \n",
       "2  Young Adult  \n",
       "3      Old Age  \n",
       "4   Middle Age  \n",
       "\n",
       "[5 rows x 22 columns]"
      ]
     },
     "execution_count": 3,
     "metadata": {},
     "output_type": "execute_result"
    }
   ],
   "source": [
    "churn_clean_df.head() #just to be sure the data remains the same"
   ]
  },
  {
   "cell_type": "code",
   "execution_count": 4,
   "metadata": {},
   "outputs": [
    {
     "data": {
      "text/plain": [
       "Index(['customer_id', 'vintage', 'age', 'gender', 'dependents', 'occupation',\n",
       "       'city', 'customer_nw_category', 'branch_code',\n",
       "       'days_since_last_transaction', 'current_balance',\n",
       "       'previous_month_end_balance', 'average_monthly_balance_prevQ',\n",
       "       'average_monthly_balance_prevQ2', 'current_month_credit',\n",
       "       'previous_month_credit', 'current_month_debit', 'previous_month_debit',\n",
       "       'current_month_balance', 'previous_month_balance', 'churn',\n",
       "       'Age_group'],\n",
       "      dtype='object')"
      ]
     },
     "execution_count": 4,
     "metadata": {},
     "output_type": "execute_result"
    }
   ],
   "source": [
    "churn_clean_df.columns #recheck the dataframe"
   ]
  },
  {
   "cell_type": "markdown",
   "metadata": {},
   "source": [
    "### Dealing with missing values"
   ]
  },
  {
   "cell_type": "markdown",
   "metadata": {},
   "source": [
    "##### <i>check columns with missing values</i>"
   ]
  },
  {
   "cell_type": "code",
   "execution_count": 5,
   "metadata": {},
   "outputs": [
    {
     "data": {
      "text/plain": [
       "customer_id                          0\n",
       "vintage                              0\n",
       "age                                  0\n",
       "gender                             525\n",
       "dependents                        2463\n",
       "occupation                          80\n",
       "city                               803\n",
       "customer_nw_category                 0\n",
       "branch_code                          0\n",
       "days_since_last_transaction       3223\n",
       "current_balance                      0\n",
       "previous_month_end_balance           0\n",
       "average_monthly_balance_prevQ        0\n",
       "average_monthly_balance_prevQ2       0\n",
       "current_month_credit                 0\n",
       "previous_month_credit                0\n",
       "current_month_debit                  0\n",
       "previous_month_debit                 0\n",
       "current_month_balance                0\n",
       "previous_month_balance               0\n",
       "churn                                0\n",
       "Age_group                            0\n",
       "dtype: int64"
      ]
     },
     "execution_count": 5,
     "metadata": {},
     "output_type": "execute_result"
    }
   ],
   "source": [
    "churn_clean_df.isna().sum()"
   ]
  },
  {
   "cell_type": "markdown",
   "metadata": {},
   "source": [
    "Four categorical variables have missing values, they are:\n",
    "* Gender;\n",
    "* Dependents;\n",
    "* Occupation and \n",
    "* city\n",
    "<br></br>\n",
    "\n",
    "\n",
    "\n",
    "Only day_since_last_transaction has missing values in the numeric category"
   ]
  },
  {
   "cell_type": "markdown",
   "metadata": {},
   "source": [
    "#### Dealing with missing values"
   ]
  },
  {
   "cell_type": "markdown",
   "metadata": {},
   "source": [
    "From EDA, we have decided that due to too many unique values for City Column, we will not include it in our machine learning section, this is one of the shortcomings of machine learnings. <br></br>\n",
    "Nevertheless, there are three ways one can deal with missing categorical values, one could replace the missing values with the most frequent value (mode), one could replace the missing value with an arbitiary number or one could drop the rows of the missing values. For this project however, we will replace the missing categorical values with mode.<br></br>\n",
    "The conventional method of dealing with numerical missing values is to either replace them with the mean or drop the rows they are in."
   ]
  },
  {
   "cell_type": "code",
   "execution_count": 6,
   "metadata": {},
   "outputs": [],
   "source": [
    "#replacing the categorical values with mode, since city will be dropped, we wont include it\n",
    "na_cat=['gender','dependents','occupation']\n",
    "\n",
    "for i in na_cat:\n",
    "    mode=churn_clean_df[i].value_counts(ascending=False).index[0] #fetches the mode\n",
    "    \n",
    "    churn_clean_df[i].fillna(mode, inplace=True) # replaces the missing value and overrides the dataframe\n",
    "    \n",
    "#replacing the numerical value\n",
    "churn_clean_df['days_since_last_transaction'].fillna(churn_clean_df['days_since_last_transaction'].mean(), inplace=True)"
   ]
  },
  {
   "cell_type": "markdown",
   "metadata": {},
   "source": [
    "### Getting the Log of the Benchmark columns"
   ]
  },
  {
   "cell_type": "code",
   "execution_count": 7,
   "metadata": {},
   "outputs": [],
   "source": [
    "benchmark_col=['branch_code',\n",
    " 'current_balance',\n",
    " 'average_monthly_balance_prevQ',\n",
    " 'average_monthly_balance_prevQ2',\n",
    " 'current_month_credit',\n",
    " 'previous_month_credit',\n",
    " 'current_month_debit',\n",
    " 'previous_month_debit',\n",
    " 'previous_month_balance',\n",
    "'previous_month_end_balance', \n",
    "'average_monthly_balance_prevQ2'\n",
    "]\n",
    "\n",
    "# getting log of benchmark column\n",
    "negative_log_columns_minvalue_dict = {} #for keeping minimum value of columns with negative numbers\n",
    "\n",
    "log_columns_withzeros_minvalue_dict={} #for keeping names of columns in \n",
    "\n",
    "for col in benchmark_col:\n",
    "    \n",
    "    minimum= churn_clean_df[col].min()\n",
    "    if minimum <0:\n",
    "        \n",
    "        churn_clean_df[col] = np.log(churn_clean_df[col] + np.abs(minimum) + 1)\n",
    "        \n",
    "        #keeps record of the minimum value incase conversion from logarithm is needed in the future\n",
    "        negative_log_columns_minvalue_dict[col] = minimum \n",
    "    \n",
    "    elif minimum ==0:\n",
    "        churn_clean_df[col] = np.log(churn_clean_df[col]+ 1)\n",
    "        \n",
    "        #keeps record of the minimum value incase conversion from logarithm is needed in the future\n",
    "        log_columns_withzeros_minvalue_dict[col] = minimum \n",
    "    \n",
    "        \n",
    "    else:\n",
    "        churn_clean_df[col]= np.log(churn_clean_df[col])"
   ]
  },
  {
   "cell_type": "code",
   "execution_count": 8,
   "metadata": {},
   "outputs": [],
   "source": [
    "#saving the name and values of benchmarks with negative minimum values and zero minimum value\n",
    "\n",
    "filenames=['churn benchmark with negative values.pkl', \n",
    "           'churn benchmark with zero minimum values.pkl']\n",
    "logged_benchmarks= [negative_log_columns_minvalue_dict, \n",
    "                    log_columns_withzeros_minvalue_dict]\n",
    "\n",
    "for log_file, fname in zip(logged_benchmarks, filenames):\n",
    "    outfile= open(fname, 'wb')\n",
    "    pickle.dump(log_file, outfile)\n",
    "    outfile.close()"
   ]
  },
  {
   "cell_type": "markdown",
   "metadata": {},
   "source": [
    "### Dealing with categorical variables"
   ]
  },
  {
   "cell_type": "code",
   "execution_count": 9,
   "metadata": {},
   "outputs": [],
   "source": [
    "cat_col=['customer_id', 'occupation', 'gender', 'city', 'Age_group', 'churn', 'branch_code']\n",
    "\n",
    "#seperating the dependent variable from the dataframe variable\n",
    "y=churn_clean_df['churn'] \n",
    "X_unscaled=churn_clean_df.drop('churn', axis=1)\n",
    "\n",
    "# getting the dummy variable\n",
    "usable_cat_col= pd.get_dummies(churn_clean_df.loc[:,['gender','occupation']],      \n",
    "                               prefix=['gender', 'occupation'], drop_first=True)  #drop first prevents dummy trap\n",
    "\n",
    "X_unscaled=churn_clean_df.drop(cat_col, axis=1)\n",
    "X_unscaled=pd.concat([X_unscaled,usable_cat_col], axis=1)"
   ]
  },
  {
   "cell_type": "code",
   "execution_count": 10,
   "metadata": {},
   "outputs": [
    {
     "data": {
      "text/html": [
       "<div>\n",
       "<style scoped>\n",
       "    .dataframe tbody tr th:only-of-type {\n",
       "        vertical-align: middle;\n",
       "    }\n",
       "\n",
       "    .dataframe tbody tr th {\n",
       "        vertical-align: top;\n",
       "    }\n",
       "\n",
       "    .dataframe thead th {\n",
       "        text-align: right;\n",
       "    }\n",
       "</style>\n",
       "<table border=\"1\" class=\"dataframe\">\n",
       "  <thead>\n",
       "    <tr style=\"text-align: right;\">\n",
       "      <th></th>\n",
       "      <th>vintage</th>\n",
       "      <th>age</th>\n",
       "      <th>dependents</th>\n",
       "      <th>customer_nw_category</th>\n",
       "      <th>days_since_last_transaction</th>\n",
       "      <th>current_balance</th>\n",
       "      <th>previous_month_end_balance</th>\n",
       "      <th>average_monthly_balance_prevQ</th>\n",
       "      <th>average_monthly_balance_prevQ2</th>\n",
       "      <th>current_month_credit</th>\n",
       "      <th>previous_month_credit</th>\n",
       "      <th>current_month_debit</th>\n",
       "      <th>previous_month_debit</th>\n",
       "      <th>current_month_balance</th>\n",
       "      <th>previous_month_balance</th>\n",
       "      <th>gender_Male</th>\n",
       "      <th>occupation_retired</th>\n",
       "      <th>occupation_salaried</th>\n",
       "      <th>occupation_self_employed</th>\n",
       "      <th>occupation_student</th>\n",
       "    </tr>\n",
       "  </thead>\n",
       "  <tbody>\n",
       "    <tr>\n",
       "      <th>0</th>\n",
       "      <td>3135</td>\n",
       "      <td>66</td>\n",
       "      <td>0.0</td>\n",
       "      <td>2</td>\n",
       "      <td>224.000000</td>\n",
       "      <td>8.848462</td>\n",
       "      <td>8.435827</td>\n",
       "      <td>7.285308</td>\n",
       "      <td>2.379147</td>\n",
       "      <td>-1.609438</td>\n",
       "      <td>-1.609438</td>\n",
       "      <td>-1.609438</td>\n",
       "      <td>-1.609438</td>\n",
       "      <td>1458.71</td>\n",
       "      <td>8.799606</td>\n",
       "      <td>1</td>\n",
       "      <td>0</td>\n",
       "      <td>0</td>\n",
       "      <td>1</td>\n",
       "      <td>0</td>\n",
       "    </tr>\n",
       "    <tr>\n",
       "      <th>1</th>\n",
       "      <td>310</td>\n",
       "      <td>35</td>\n",
       "      <td>0.0</td>\n",
       "      <td>2</td>\n",
       "      <td>60.000000</td>\n",
       "      <td>9.296090</td>\n",
       "      <td>9.380524</td>\n",
       "      <td>8.961784</td>\n",
       "      <td>2.422367</td>\n",
       "      <td>-0.579818</td>\n",
       "      <td>-0.579818</td>\n",
       "      <td>8.610004</td>\n",
       "      <td>4.610755</td>\n",
       "      <td>6496.78</td>\n",
       "      <td>9.543989</td>\n",
       "      <td>1</td>\n",
       "      <td>0</td>\n",
       "      <td>0</td>\n",
       "      <td>1</td>\n",
       "      <td>0</td>\n",
       "    </tr>\n",
       "    <tr>\n",
       "      <th>2</th>\n",
       "      <td>2356</td>\n",
       "      <td>31</td>\n",
       "      <td>0.0</td>\n",
       "      <td>2</td>\n",
       "      <td>69.997814</td>\n",
       "      <td>9.150391</td>\n",
       "      <td>9.101179</td>\n",
       "      <td>8.499064</td>\n",
       "      <td>2.385920</td>\n",
       "      <td>-0.494296</td>\n",
       "      <td>-0.494296</td>\n",
       "      <td>8.707273</td>\n",
       "      <td>5.557716</td>\n",
       "      <td>5006.28</td>\n",
       "      <td>9.234356</td>\n",
       "      <td>1</td>\n",
       "      <td>0</td>\n",
       "      <td>1</td>\n",
       "      <td>0</td>\n",
       "      <td>0</td>\n",
       "    </tr>\n",
       "    <tr>\n",
       "      <th>3</th>\n",
       "      <td>478</td>\n",
       "      <td>90</td>\n",
       "      <td>0.0</td>\n",
       "      <td>2</td>\n",
       "      <td>147.000000</td>\n",
       "      <td>8.961478</td>\n",
       "      <td>8.601990</td>\n",
       "      <td>7.642303</td>\n",
       "      <td>2.376833</td>\n",
       "      <td>-0.755023</td>\n",
       "      <td>-0.755023</td>\n",
       "      <td>-0.755023</td>\n",
       "      <td>7.670116</td>\n",
       "      <td>2291.91</td>\n",
       "      <td>8.830939</td>\n",
       "      <td>1</td>\n",
       "      <td>0</td>\n",
       "      <td>0</td>\n",
       "      <td>1</td>\n",
       "      <td>0</td>\n",
       "    </tr>\n",
       "    <tr>\n",
       "      <th>4</th>\n",
       "      <td>2531</td>\n",
       "      <td>42</td>\n",
       "      <td>2.0</td>\n",
       "      <td>3</td>\n",
       "      <td>58.000000</td>\n",
       "      <td>8.769147</td>\n",
       "      <td>8.423386</td>\n",
       "      <td>7.404468</td>\n",
       "      <td>2.381297</td>\n",
       "      <td>-1.108663</td>\n",
       "      <td>6.571737</td>\n",
       "      <td>6.377781</td>\n",
       "      <td>7.338277</td>\n",
       "      <td>1157.15</td>\n",
       "      <td>8.832016</td>\n",
       "      <td>1</td>\n",
       "      <td>0</td>\n",
       "      <td>0</td>\n",
       "      <td>1</td>\n",
       "      <td>0</td>\n",
       "    </tr>\n",
       "  </tbody>\n",
       "</table>\n",
       "</div>"
      ],
      "text/plain": [
       "   vintage  age  dependents  customer_nw_category  \\\n",
       "0     3135   66         0.0                     2   \n",
       "1      310   35         0.0                     2   \n",
       "2     2356   31         0.0                     2   \n",
       "3      478   90         0.0                     2   \n",
       "4     2531   42         2.0                     3   \n",
       "\n",
       "   days_since_last_transaction  current_balance  previous_month_end_balance  \\\n",
       "0                   224.000000         8.848462                    8.435827   \n",
       "1                    60.000000         9.296090                    9.380524   \n",
       "2                    69.997814         9.150391                    9.101179   \n",
       "3                   147.000000         8.961478                    8.601990   \n",
       "4                    58.000000         8.769147                    8.423386   \n",
       "\n",
       "   average_monthly_balance_prevQ  average_monthly_balance_prevQ2  \\\n",
       "0                       7.285308                        2.379147   \n",
       "1                       8.961784                        2.422367   \n",
       "2                       8.499064                        2.385920   \n",
       "3                       7.642303                        2.376833   \n",
       "4                       7.404468                        2.381297   \n",
       "\n",
       "   current_month_credit  previous_month_credit  current_month_debit  \\\n",
       "0             -1.609438              -1.609438            -1.609438   \n",
       "1             -0.579818              -0.579818             8.610004   \n",
       "2             -0.494296              -0.494296             8.707273   \n",
       "3             -0.755023              -0.755023            -0.755023   \n",
       "4             -1.108663               6.571737             6.377781   \n",
       "\n",
       "   previous_month_debit  current_month_balance  previous_month_balance  \\\n",
       "0             -1.609438                1458.71                8.799606   \n",
       "1              4.610755                6496.78                9.543989   \n",
       "2              5.557716                5006.28                9.234356   \n",
       "3              7.670116                2291.91                8.830939   \n",
       "4              7.338277                1157.15                8.832016   \n",
       "\n",
       "   gender_Male  occupation_retired  occupation_salaried  \\\n",
       "0            1                   0                    0   \n",
       "1            1                   0                    0   \n",
       "2            1                   0                    1   \n",
       "3            1                   0                    0   \n",
       "4            1                   0                    0   \n",
       "\n",
       "   occupation_self_employed  occupation_student  \n",
       "0                         1                   0  \n",
       "1                         1                   0  \n",
       "2                         0                   0  \n",
       "3                         1                   0  \n",
       "4                         1                   0  "
      ]
     },
     "execution_count": 10,
     "metadata": {},
     "output_type": "execute_result"
    }
   ],
   "source": [
    "X_unscaled.head()"
   ]
  },
  {
   "cell_type": "markdown",
   "metadata": {},
   "source": [
    "### Scaling and dividing datasets into train sets and test sets"
   ]
  },
  {
   "cell_type": "code",
   "execution_count": 11,
   "metadata": {},
   "outputs": [],
   "source": [
    "from sklearn.preprocessing import StandardScaler\n",
    "from sklearn.model_selection import train_test_split"
   ]
  },
  {
   "cell_type": "code",
   "execution_count": 12,
   "metadata": {},
   "outputs": [],
   "source": [
    "scale= StandardScaler()\n",
    "scale.fit(X_unscaled)\n",
    "X = pd.DataFrame(scale.transform(X_unscaled), columns=X_unscaled.columns)"
   ]
  },
  {
   "cell_type": "code",
   "execution_count": 13,
   "metadata": {},
   "outputs": [],
   "source": [
    "#saving the scaler for future use\n",
    "with open('churn_scaler.pkl', 'wb') as f:\n",
    "    pickle.dump(scale, f)"
   ]
  },
  {
   "cell_type": "code",
   "execution_count": 14,
   "metadata": {},
   "outputs": [
    {
     "data": {
      "text/html": [
       "<div>\n",
       "<style scoped>\n",
       "    .dataframe tbody tr th:only-of-type {\n",
       "        vertical-align: middle;\n",
       "    }\n",
       "\n",
       "    .dataframe tbody tr th {\n",
       "        vertical-align: top;\n",
       "    }\n",
       "\n",
       "    .dataframe thead th {\n",
       "        text-align: right;\n",
       "    }\n",
       "</style>\n",
       "<table border=\"1\" class=\"dataframe\">\n",
       "  <thead>\n",
       "    <tr style=\"text-align: right;\">\n",
       "      <th></th>\n",
       "      <th>vintage</th>\n",
       "      <th>age</th>\n",
       "      <th>dependents</th>\n",
       "      <th>customer_nw_category</th>\n",
       "      <th>days_since_last_transaction</th>\n",
       "      <th>current_balance</th>\n",
       "      <th>previous_month_end_balance</th>\n",
       "      <th>average_monthly_balance_prevQ</th>\n",
       "      <th>average_monthly_balance_prevQ2</th>\n",
       "      <th>current_month_credit</th>\n",
       "      <th>previous_month_credit</th>\n",
       "      <th>current_month_debit</th>\n",
       "      <th>previous_month_debit</th>\n",
       "      <th>current_month_balance</th>\n",
       "      <th>previous_month_balance</th>\n",
       "      <th>gender_Male</th>\n",
       "      <th>occupation_retired</th>\n",
       "      <th>occupation_salaried</th>\n",
       "      <th>occupation_self_employed</th>\n",
       "      <th>occupation_student</th>\n",
       "    </tr>\n",
       "  </thead>\n",
       "  <tbody>\n",
       "    <tr>\n",
       "      <th>0</th>\n",
       "      <td>0.478644</td>\n",
       "      <td>0.999147</td>\n",
       "      <td>-0.330877</td>\n",
       "      <td>-0.341489</td>\n",
       "      <td>1.894492e+00</td>\n",
       "      <td>-0.727799</td>\n",
       "      <td>-0.814513</td>\n",
       "      <td>-1.255369</td>\n",
       "      <td>-0.575232</td>\n",
       "      <td>-0.882673</td>\n",
       "      <td>-0.900892</td>\n",
       "      <td>-1.129796</td>\n",
       "      <td>-1.145103</td>\n",
       "      <td>-0.142564</td>\n",
       "      <td>-0.826844</td>\n",
       "      <td>0.813874</td>\n",
       "      <td>-0.277108</td>\n",
       "      <td>-0.556106</td>\n",
       "      <td>0.785274</td>\n",
       "      <td>-0.279606</td>\n",
       "    </tr>\n",
       "    <tr>\n",
       "      <th>1</th>\n",
       "      <td>-1.275909</td>\n",
       "      <td>-0.741756</td>\n",
       "      <td>-0.330877</td>\n",
       "      <td>-0.341489</td>\n",
       "      <td>-1.229903e-01</td>\n",
       "      <td>0.138514</td>\n",
       "      <td>0.715389</td>\n",
       "      <td>0.729051</td>\n",
       "      <td>0.883783</td>\n",
       "      <td>-0.644332</td>\n",
       "      <td>-0.664697</td>\n",
       "      <td>1.223916</td>\n",
       "      <td>0.290772</td>\n",
       "      <td>-0.022705</td>\n",
       "      <td>0.656674</td>\n",
       "      <td>0.813874</td>\n",
       "      <td>-0.277108</td>\n",
       "      <td>-0.556106</td>\n",
       "      <td>0.785274</td>\n",
       "      <td>-0.279606</td>\n",
       "    </tr>\n",
       "    <tr>\n",
       "      <th>2</th>\n",
       "      <td>-0.005178</td>\n",
       "      <td>-0.966389</td>\n",
       "      <td>-0.330877</td>\n",
       "      <td>-0.341489</td>\n",
       "      <td>1.748180e-16</td>\n",
       "      <td>-0.143464</td>\n",
       "      <td>0.263000</td>\n",
       "      <td>0.181336</td>\n",
       "      <td>-0.346602</td>\n",
       "      <td>-0.624535</td>\n",
       "      <td>-0.645078</td>\n",
       "      <td>1.246319</td>\n",
       "      <td>0.509369</td>\n",
       "      <td>-0.058165</td>\n",
       "      <td>0.039590</td>\n",
       "      <td>0.813874</td>\n",
       "      <td>-0.277108</td>\n",
       "      <td>1.798219</td>\n",
       "      <td>-1.273441</td>\n",
       "      <td>-0.279606</td>\n",
       "    </tr>\n",
       "    <tr>\n",
       "      <th>3</th>\n",
       "      <td>-1.171568</td>\n",
       "      <td>2.346943</td>\n",
       "      <td>-0.330877</td>\n",
       "      <td>-0.341489</td>\n",
       "      <td>9.472594e-01</td>\n",
       "      <td>-0.509075</td>\n",
       "      <td>-0.545418</td>\n",
       "      <td>-0.832799</td>\n",
       "      <td>-0.653352</td>\n",
       "      <td>-0.684889</td>\n",
       "      <td>-0.704889</td>\n",
       "      <td>-0.933010</td>\n",
       "      <td>0.996998</td>\n",
       "      <td>-0.122742</td>\n",
       "      <td>-0.764398</td>\n",
       "      <td>0.813874</td>\n",
       "      <td>-0.277108</td>\n",
       "      <td>-0.556106</td>\n",
       "      <td>0.785274</td>\n",
       "      <td>-0.279606</td>\n",
       "    </tr>\n",
       "    <tr>\n",
       "      <th>4</th>\n",
       "      <td>0.103512</td>\n",
       "      <td>-0.348649</td>\n",
       "      <td>1.756001</td>\n",
       "      <td>1.172672</td>\n",
       "      <td>-1.475938e-01</td>\n",
       "      <td>-0.881302</td>\n",
       "      <td>-0.834661</td>\n",
       "      <td>-1.114321</td>\n",
       "      <td>-0.502664</td>\n",
       "      <td>-0.766751</td>\n",
       "      <td>0.975873</td>\n",
       "      <td>0.709797</td>\n",
       "      <td>0.920396</td>\n",
       "      <td>-0.149738</td>\n",
       "      <td>-0.762253</td>\n",
       "      <td>0.813874</td>\n",
       "      <td>-0.277108</td>\n",
       "      <td>-0.556106</td>\n",
       "      <td>0.785274</td>\n",
       "      <td>-0.279606</td>\n",
       "    </tr>\n",
       "  </tbody>\n",
       "</table>\n",
       "</div>"
      ],
      "text/plain": [
       "    vintage       age  dependents  customer_nw_category  \\\n",
       "0  0.478644  0.999147   -0.330877             -0.341489   \n",
       "1 -1.275909 -0.741756   -0.330877             -0.341489   \n",
       "2 -0.005178 -0.966389   -0.330877             -0.341489   \n",
       "3 -1.171568  2.346943   -0.330877             -0.341489   \n",
       "4  0.103512 -0.348649    1.756001              1.172672   \n",
       "\n",
       "   days_since_last_transaction  current_balance  previous_month_end_balance  \\\n",
       "0                 1.894492e+00        -0.727799                   -0.814513   \n",
       "1                -1.229903e-01         0.138514                    0.715389   \n",
       "2                 1.748180e-16        -0.143464                    0.263000   \n",
       "3                 9.472594e-01        -0.509075                   -0.545418   \n",
       "4                -1.475938e-01        -0.881302                   -0.834661   \n",
       "\n",
       "   average_monthly_balance_prevQ  average_monthly_balance_prevQ2  \\\n",
       "0                      -1.255369                       -0.575232   \n",
       "1                       0.729051                        0.883783   \n",
       "2                       0.181336                       -0.346602   \n",
       "3                      -0.832799                       -0.653352   \n",
       "4                      -1.114321                       -0.502664   \n",
       "\n",
       "   current_month_credit  previous_month_credit  current_month_debit  \\\n",
       "0             -0.882673              -0.900892            -1.129796   \n",
       "1             -0.644332              -0.664697             1.223916   \n",
       "2             -0.624535              -0.645078             1.246319   \n",
       "3             -0.684889              -0.704889            -0.933010   \n",
       "4             -0.766751               0.975873             0.709797   \n",
       "\n",
       "   previous_month_debit  current_month_balance  previous_month_balance  \\\n",
       "0             -1.145103              -0.142564               -0.826844   \n",
       "1              0.290772              -0.022705                0.656674   \n",
       "2              0.509369              -0.058165                0.039590   \n",
       "3              0.996998              -0.122742               -0.764398   \n",
       "4              0.920396              -0.149738               -0.762253   \n",
       "\n",
       "   gender_Male  occupation_retired  occupation_salaried  \\\n",
       "0     0.813874           -0.277108            -0.556106   \n",
       "1     0.813874           -0.277108            -0.556106   \n",
       "2     0.813874           -0.277108             1.798219   \n",
       "3     0.813874           -0.277108            -0.556106   \n",
       "4     0.813874           -0.277108            -0.556106   \n",
       "\n",
       "   occupation_self_employed  occupation_student  \n",
       "0                  0.785274           -0.279606  \n",
       "1                  0.785274           -0.279606  \n",
       "2                 -1.273441           -0.279606  \n",
       "3                  0.785274           -0.279606  \n",
       "4                  0.785274           -0.279606  "
      ]
     },
     "execution_count": 14,
     "metadata": {},
     "output_type": "execute_result"
    }
   ],
   "source": [
    "X.head()"
   ]
  },
  {
   "cell_type": "code",
   "execution_count": 15,
   "metadata": {},
   "outputs": [],
   "source": [
    "X_train, X_test, y_train, y_test = train_test_split(X, y, test_size=0.33, random_state=42)"
   ]
  },
  {
   "cell_type": "markdown",
   "metadata": {},
   "source": [
    "## Machine Learning"
   ]
  },
  {
   "cell_type": "code",
   "execution_count": 16,
   "metadata": {},
   "outputs": [],
   "source": [
    "# importing logistics regression model\n",
    "from sklearn.linear_model import LogisticRegression"
   ]
  },
  {
   "cell_type": "code",
   "execution_count": 17,
   "metadata": {},
   "outputs": [],
   "source": [
    "LR= LogisticRegression()"
   ]
  },
  {
   "cell_type": "code",
   "execution_count": 18,
   "metadata": {},
   "outputs": [
    {
     "data": {
      "text/plain": [
       "LogisticRegression()"
      ]
     },
     "execution_count": 18,
     "metadata": {},
     "output_type": "execute_result"
    }
   ],
   "source": [
    "LR.fit(X_train, y_train)"
   ]
  },
  {
   "cell_type": "markdown",
   "metadata": {},
   "source": [
    "###### Evaluating the model"
   ]
  },
  {
   "cell_type": "code",
   "execution_count": 19,
   "metadata": {},
   "outputs": [],
   "source": [
    "from sklearn.metrics import classification_report"
   ]
  },
  {
   "cell_type": "code",
   "execution_count": 20,
   "metadata": {},
   "outputs": [
    {
     "name": "stdout",
     "output_type": "stream",
     "text": [
      "              precision    recall  f1-score   support\n",
      "\n",
      "           0       0.86      0.98      0.91      7645\n",
      "           1       0.74      0.28      0.41      1722\n",
      "\n",
      "    accuracy                           0.85      9367\n",
      "   macro avg       0.80      0.63      0.66      9367\n",
      "weighted avg       0.84      0.85      0.82      9367\n",
      "\n"
     ]
    }
   ],
   "source": [
    "print(classification_report(y_test,LR.predict(X_test)))"
   ]
  },
  {
   "cell_type": "markdown",
   "metadata": {},
   "source": [
    "The accuracy of our model is 85 which is good, we might be able to do better though, however, a quick look at the recall value for churn i.e 1, which is given as 0.28, one would realize that the value is extremely low, this defeats the purpose of carrying out the analytics in the first place, essentially recall of 0.28 means that only 28% of the individual who will eventually churn will be predicted to churn, in other words only 28 out of 100 people who will churn will be indentified by our model, one need not be an expert to conclude that this is not good, our bank will probably throw the model in the trash and maybe chase me out of their premises. At this point it is pointless to improve accuracy because, it does not seem relevant to this model, we might have to focus on recall because of the bank's objective, we woundn't want to disappoint our employer now, would we? <br></br><br></br>\n",
    "It is quite common for accuracy to be a useless metric when examining classification models performance, this usually happens when datasets are imbalance i.e some classes in the response variable occur much more often than others. In our churn dataset, class 0 of the churn column occurs much more frequently than class 1, referencing the churn countplot in the Exploratory Data Analysis notebook, one can deduce that 0 class which is denoted as \"No\" is about 80 of the total, while 1 denoted as \"Yes\" is only about 20 percent. <br></br><br></br>\n",
    "The foregoing implies that we have to rerun the model and try to optimize recall in our model, it is important to note that there is free lunch, the new optimized model will definitely lead to more false positives, thus, reducing our precision."
   ]
  },
  {
   "cell_type": "markdown",
   "metadata": {},
   "source": [
    "#### Searching for the best model that improves recall draticall using Cross validation"
   ]
  },
  {
   "cell_type": "code",
   "execution_count": 21,
   "metadata": {},
   "outputs": [],
   "source": [
    "from sklearn.model_selection import GridSearchCV"
   ]
  },
  {
   "cell_type": "code",
   "execution_count": 22,
   "metadata": {},
   "outputs": [],
   "source": [
    "param_grid={'penalty':['l1', 'l2'], # penalty is used because of the suspicion that some variables might be irrelevant \n",
    "            'C':[1,10,50,100,1000],\n",
    "           'fit_intercept':[True, False]}\n",
    "\n",
    "grid = GridSearchCV(LogisticRegression(solver='liblinear'), param_grid=param_grid,scoring='recall', cv=5)"
   ]
  },
  {
   "cell_type": "code",
   "execution_count": 23,
   "metadata": {},
   "outputs": [
    {
     "data": {
      "text/plain": [
       "GridSearchCV(cv=5, estimator=LogisticRegression(solver='liblinear'),\n",
       "             param_grid={'C': [1, 10, 50, 100, 1000],\n",
       "                         'fit_intercept': [True, False],\n",
       "                         'penalty': ['l1', 'l2']},\n",
       "             scoring='recall')"
      ]
     },
     "execution_count": 23,
     "metadata": {},
     "output_type": "execute_result"
    }
   ],
   "source": [
    "grid.fit(X_train, y_train)"
   ]
  },
  {
   "cell_type": "code",
   "execution_count": 24,
   "metadata": {},
   "outputs": [
    {
     "data": {
      "text/plain": [
       "{'C': 50, 'fit_intercept': False, 'penalty': 'l2'}"
      ]
     },
     "execution_count": 24,
     "metadata": {},
     "output_type": "execute_result"
    }
   ],
   "source": [
    "grid.best_params_"
   ]
  },
  {
   "cell_type": "markdown",
   "metadata": {},
   "source": [
    "L2 penalty is chosen, which means all the independent variables are relevant. "
   ]
  },
  {
   "cell_type": "code",
   "execution_count": 25,
   "metadata": {},
   "outputs": [],
   "source": [
    "model= grid.best_estimator_"
   ]
  },
  {
   "cell_type": "code",
   "execution_count": 26,
   "metadata": {},
   "outputs": [
    {
     "name": "stdout",
     "output_type": "stream",
     "text": [
      "              precision    recall  f1-score   support\n",
      "\n",
      "           0       0.92      0.68      0.78      7645\n",
      "           1       0.35      0.75      0.47      1722\n",
      "\n",
      "    accuracy                           0.69      9367\n",
      "   macro avg       0.63      0.71      0.63      9367\n",
      "weighted avg       0.82      0.69      0.73      9367\n",
      "\n"
     ]
    }
   ],
   "source": [
    "print(classification_report(y_test,model.predict(X_test)))"
   ]
  },
  {
   "cell_type": "markdown",
   "metadata": {},
   "source": [
    "The new model will be able to determine the 3 out of every 4 customers who will churn in the future, this is an improvement on the first model which could not really detect customers who will definitely churn. as expected, precision is now much lower, this model will predict more people who will not churn as those that will churn, this seems like what our bank wouldn't care much about for now, however, if the bank desires to embark on some strategy to reduce churn by focusing people predicted to churn by our model, the bank might waste more resource on those who woundn't churn. So what next? Well there is usually a middle ground, in our case we'll consider the coefficients of the variables in our model"
   ]
  },
  {
   "cell_type": "markdown",
   "metadata": {},
   "source": [
    "###### Model coefficients"
   ]
  },
  {
   "cell_type": "code",
   "execution_count": 27,
   "metadata": {},
   "outputs": [
    {
     "data": {
      "text/plain": [
       "vintage                          -0.127373\n",
       "age                              -0.014610\n",
       "dependents                        0.004770\n",
       "customer_nw_category              0.044354\n",
       "days_since_last_transaction      -0.006714\n",
       "current_balance                  -1.297846\n",
       "previous_month_end_balance       -0.540634\n",
       "average_monthly_balance_prevQ     1.065785\n",
       "average_monthly_balance_prevQ2   -0.091754\n",
       "current_month_credit             -0.007859\n",
       "previous_month_credit             0.056871\n",
       "current_month_debit               0.233502\n",
       "previous_month_debit              0.046023\n",
       "current_month_balance             0.259036\n",
       "previous_month_balance            0.567856\n",
       "gender_Male                       0.018734\n",
       "occupation_retired                0.016279\n",
       "occupation_salaried               0.017560\n",
       "occupation_self_employed          0.096477\n",
       "occupation_student                0.047647\n",
       "dtype: float64"
      ]
     },
     "execution_count": 27,
     "metadata": {},
     "output_type": "execute_result"
    }
   ],
   "source": [
    "pd.Series(model.coef_.ravel(), index=X.columns)"
   ]
  },
  {
   "cell_type": "markdown",
   "metadata": {},
   "source": [
    "Considering these coefficients, one can easily draw a conclusion that older people are less likely to churn,  because of age's negative value, in simple terms, age coefficient is interpreted as: the higher the age, the less likely an individual will churn, i.e the less likely they stop transacting with bank. <br></br>\n",
    "Another interesting numerical demographic variable coefficient is dependents which implies that the more the number of dependent the more likely an individual will churn.\n",
    "\n",
    "Considering the nominal variable gender, the coeffient for gender_male is positive, thus, is interpreted as the male gender are more likely to churn than female. For occupation, every other occupation especially self employed because of it's high coeffient are more likely to churn compared to those who work in the company. \n",
    "\n",
    "Wait! retired persons seem counter intuitive to the age coefficent, this is when the gender category comes in, recall that the female gender and company occupation were used as reference categories to prevent dummy trap, as such they are interdependent, as such a better interpretation will be retired people are much likely to churn than female who work in company.\n",
    " \n",
    "\n",
    "\n",
    "It is important to reitrate that the essence of checking the coefficients of the variables is to tailor the bank's decision making, for example, the bank could want spend money on some customer retention program to prevent customers that have been predicted to churn from actually churning, because of low precision in our model, the bank will end up spending a lot more on people who are not going to churn, to minimize this the bank might prioritize based on the coefficients of the model to support their decision. for example the bank prioritize a self employed 35 years old man with a high average monthly bank balance who has been predicted to churn over an 80 years old woman high current month credit."
   ]
  },
  {
   "cell_type": "markdown",
   "metadata": {},
   "source": [
    "Finally, we have to save the model for future use"
   ]
  },
  {
   "cell_type": "code",
   "execution_count": 28,
   "metadata": {},
   "outputs": [],
   "source": [
    "with open('Churn LR model.pkl', 'wb') as f:\n",
    "    pickle.dump(model, f)"
   ]
  },
  {
   "cell_type": "markdown",
   "metadata": {},
   "source": [
    "#  <i>Thank You</i>"
   ]
  },
  {
   "cell_type": "markdown",
   "metadata": {},
   "source": [
    " "
   ]
  }
 ],
 "metadata": {
  "kernelspec": {
   "display_name": "Python 3",
   "language": "python",
   "name": "python3"
  },
  "language_info": {
   "codemirror_mode": {
    "name": "ipython",
    "version": 3
   },
   "file_extension": ".py",
   "mimetype": "text/x-python",
   "name": "python",
   "nbconvert_exporter": "python",
   "pygments_lexer": "ipython3",
   "version": "3.8.5"
  }
 },
 "nbformat": 4,
 "nbformat_minor": 4
}
